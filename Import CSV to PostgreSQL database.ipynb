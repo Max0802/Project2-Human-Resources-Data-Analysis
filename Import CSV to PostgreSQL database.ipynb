{
 "cells": [
  {
   "attachments": {},
   "cell_type": "markdown",
   "id": "09f16149",
   "metadata": {},
   "source": [
    "## Human Resources Data Analysis (Python, MySQL, PowerBI)"
   ]
  },
  {
   "attachments": {},
   "cell_type": "markdown",
   "id": "f6ab59b9",
   "metadata": {},
   "source": [
    "### Importing CSV to PostgreSQL databse"
   ]
  },
  {
   "cell_type": "code",
   "execution_count": 1,
   "id": "008d4e38",
   "metadata": {},
   "outputs": [],
   "source": [
    "import psycopg2"
   ]
  },
  {
   "cell_type": "code",
   "execution_count": 2,
   "id": "1886bc25",
   "metadata": {
    "ExecuteTime": {
     "end_time": "2023-07-03T15:28:37.756377Z",
     "start_time": "2023-07-03T15:28:37.735243Z"
    }
   },
   "outputs": [
    {
     "name": "stdout",
     "output_type": "stream",
     "text": [
      "You are connected to -  ('PostgreSQL 14.8 on aarch64-apple-darwin20.6.0, compiled by Apple clang version 12.0.5 (clang-1205.0.22.9), 64-bit',)\n"
     ]
    }
   ],
   "source": [
    "try:\n",
    "    connection = psycopg2.connect(\n",
    "        user = \"postgres\",\n",
    "#        password = \"your_password\",\n",
    "        host = \"localhost\", # or the IP address of your PostgreSQL server\n",
    "        port = \"5432\", # default PostgreSQL port\n",
    "        database = \"HR_Project\"\n",
    "    )\n",
    "\n",
    "    cursor_post = connection.cursor()\n",
    "\n",
    "    # Print PostgreSQL version\n",
    "    cursor_post.execute(\"SELECT version();\")\n",
    "    record = cursor_post.fetchone()\n",
    "    print(\"You are connected to - \", record)\n",
    "\n",
    "except (Exception, psycopg2.Error) as error:\n",
    "    print(\"Error while connecting to PostgreSQL\", error)\n",
    "\n",
    "# finally:\n",
    "#     # Close the cursor and connection to avoid memory leaks\n",
    "#     if (connection):\n",
    "#         cursor_post.close()\n",
    "#         connection.close()\n",
    "#         print(\"PostgreSQL connection is closed\")"
   ]
  },
  {
   "cell_type": "code",
   "execution_count": 3,
   "id": "750d7196",
   "metadata": {
    "ExecuteTime": {
     "start_time": "2023-07-03T15:31:02.919Z"
    }
   },
   "outputs": [],
   "source": [
    "# drop tables with the same table name\n",
    "try:\n",
    "    # Roll back any previous transaction that ended in error\n",
    "    connection.rollback()\n",
    "    \n",
    "    # Now you can perform other operations\n",
    "    cursor_post.execute('DROP TABLE IF EXISTS human_resources;') \n",
    "\n",
    "except Exception as e:\n",
    "    print(\"An error occurred:\", e)"
   ]
  },
  {
   "cell_type": "code",
   "execution_count": 4,
   "id": "5e4860a8",
   "metadata": {
    "ExecuteTime": {
     "end_time": "2023-07-03T15:28:39.184151Z",
     "start_time": "2023-07-03T15:28:39.155957Z"
    }
   },
   "outputs": [],
   "source": [
    "# execute the CREATE TABLE statement\n",
    "cursor_post.execute(\"\"\"\n",
    "    CREATE TABLE IF NOT EXISTS Human_Resources (\n",
    "        id VARCHAR(255), \n",
    "        first_name VARCHAR(255), \n",
    "        last_name VARCHAR(255), \n",
    "        birthdate VARCHAR(255), \n",
    "        gender VARCHAR(255), \n",
    "        race VARCHAR(255), \n",
    "        department VARCHAR(255), \n",
    "        jobtitle VARCHAR(255), \n",
    "        location VARCHAR(255), \n",
    "        hire_date VARCHAR(255), \n",
    "        termdate VARCHAR(255), \n",
    "        location_city VARCHAR(255), \n",
    "        location_state VARCHAR(255)\n",
    "    );\n",
    "\"\"\")\n",
    "connection.commit()"
   ]
  },
  {
   "cell_type": "code",
   "execution_count": 5,
   "id": "5bdfa1c6",
   "metadata": {},
   "outputs": [
    {
     "name": "stdout",
     "output_type": "stream",
     "text": [
      "The table 'human_resources' exists.\n"
     ]
    }
   ],
   "source": [
    "table_name = \"human_resources\"\n",
    "\n",
    "# Execute the SELECT statement\n",
    "cursor_post.execute(f\"\"\"\n",
    "    SELECT EXISTS (\n",
    "        SELECT FROM information_schema.tables \n",
    "        WHERE  table_schema = 'public'\n",
    "        AND    table_name   = '{table_name}'\n",
    "    );\n",
    "\"\"\")\n",
    "\n",
    "# Fetch the result\n",
    "exists = cursor_post.fetchone()[0]\n",
    "\n",
    "if exists:\n",
    "    print(f\"The table '{table_name}' exists.\")\n",
    "else:\n",
    "    print(f\"The table '{table_name}' does not exist.\")"
   ]
  },
  {
   "cell_type": "code",
   "execution_count": 6,
   "id": "d5383569",
   "metadata": {
    "ExecuteTime": {
     "end_time": "2023-07-03T15:26:38.078952Z",
     "start_time": "2023-07-03T15:26:38.065715Z"
    }
   },
   "outputs": [
    {
     "name": "stdout",
     "output_type": "stream",
     "text": [
      "file opened in memory\n"
     ]
    }
   ],
   "source": [
    "#open the csv file, save it as an object\n",
    "my_file = open('Human_Resources.csv')\n",
    "print('file opened in memory')"
   ]
  },
  {
   "cell_type": "code",
   "execution_count": 7,
   "id": "c6bcd260",
   "metadata": {
    "ExecuteTime": {
     "end_time": "2023-07-03T15:26:41.298840Z",
     "start_time": "2023-07-03T15:26:41.294611Z"
    }
   },
   "outputs": [],
   "source": [
    "# upload to db\n",
    "SQL_STATEMENT = '''\n",
    "    COPY Human_Resources \n",
    "    FROM STDIN \n",
    "    WITH\n",
    "        CSV\n",
    "        HEADER\n",
    "        DELIMITER AS  ','\n",
    "'''"
   ]
  },
  {
   "cell_type": "code",
   "execution_count": 8,
   "id": "36f48ee4",
   "metadata": {
    "ExecuteTime": {
     "end_time": "2023-07-03T15:26:43.749240Z",
     "start_time": "2023-07-03T15:26:43.690142Z"
    }
   },
   "outputs": [
    {
     "name": "stdout",
     "output_type": "stream",
     "text": [
      "File copied to db\n"
     ]
    }
   ],
   "source": [
    "try:\n",
    "    connection.rollback()  # Roll back any previous failed transaction\n",
    "    cursor_post.copy_expert(sql=SQL_STATEMENT, file=my_file)\n",
    "    print(\"File copied to db\")\n",
    "except Exception as e:\n",
    "    print(\"An error has occurred:\", e)\n",
    "    connection.rollback()  # Roll back this transaction if an error occurred"
   ]
  },
  {
   "cell_type": "code",
   "execution_count": 9,
   "id": "8b91e111",
   "metadata": {
    "ExecuteTime": {
     "end_time": "2023-07-03T15:23:13.297580Z",
     "start_time": "2023-07-03T15:23:13.280822Z"
    }
   },
   "outputs": [],
   "source": [
    "# optional:\n",
    "cursor_post.execute(\"grant select on table Human_Resources to public\")\n",
    "connection.commit()\n",
    "\n",
    "# close the connection\n",
    "cursor_post.close()"
   ]
  },
  {
   "cell_type": "code",
   "execution_count": 10,
   "id": "594cd1e5",
   "metadata": {},
   "outputs": [],
   "source": [
    "# Your SQL query\n",
    "sql_query = \"SELECT * FROM Human_Resources;\"\n",
    "\n",
    "# Execute the SQL query\n",
    "cursor_post.execute(sql_query)\n",
    "\n",
    "# Fetch all the rows\n",
    "rows = cursor_post.fetchall()\n",
    "# Print the rows\n",
    "for row in rows:\n",
    "    print(row)"
   ]
  },
  {
   "cell_type": "code",
   "execution_count": null,
   "id": "8501a4ea",
   "metadata": {},
   "outputs": [],
   "source": []
  }
 ],
 "metadata": {
  "kernelspec": {
   "display_name": "Python 3 (ipykernel)",
   "language": "python",
   "name": "python3"
  },
  "language_info": {
   "codemirror_mode": {
    "name": "ipython",
    "version": 3
   },
   "file_extension": ".py",
   "mimetype": "text/x-python",
   "name": "python",
   "nbconvert_exporter": "python",
   "pygments_lexer": "ipython3",
   "version": "3.11.4"
  },
  "toc": {
   "base_numbering": 1,
   "nav_menu": {},
   "number_sections": true,
   "sideBar": true,
   "skip_h1_title": false,
   "title_cell": "Table of Contents",
   "title_sidebar": "Contents",
   "toc_cell": false,
   "toc_position": {},
   "toc_section_display": true,
   "toc_window_display": false
  },
  "varInspector": {
   "cols": {
    "lenName": 16,
    "lenType": 16,
    "lenVar": 40
   },
   "kernels_config": {
    "python": {
     "delete_cmd_postfix": "",
     "delete_cmd_prefix": "del ",
     "library": "var_list.py",
     "varRefreshCmd": "print(var_dic_list())"
    },
    "r": {
     "delete_cmd_postfix": ") ",
     "delete_cmd_prefix": "rm(",
     "library": "var_list.r",
     "varRefreshCmd": "cat(var_dic_list()) "
    }
   },
   "types_to_exclude": [
    "module",
    "function",
    "builtin_function_or_method",
    "instance",
    "_Feature"
   ],
   "window_display": false
  }
 },
 "nbformat": 4,
 "nbformat_minor": 5
}
